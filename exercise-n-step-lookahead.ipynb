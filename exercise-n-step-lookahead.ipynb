{
 "cells": [
  {
   "cell_type": "markdown",
   "id": "smoking-puppy",
   "metadata": {
    "papermill": {
     "duration": 0.019382,
     "end_time": "2021-06-09T22:57:33.681375",
     "exception": false,
     "start_time": "2021-06-09T22:57:33.661993",
     "status": "completed"
    },
    "tags": []
   },
   "source": [
    "**This notebook is an exercise in the [Intro to Game AI and Reinforcement Learning](https://www.kaggle.com/learn/intro-to-game-ai-and-reinforcement-learning) course.  You can reference the tutorial at [this link](https://www.kaggle.com/alexisbcook/n-step-lookahead).**\n",
    "\n",
    "---\n"
   ]
  },
  {
   "cell_type": "markdown",
   "id": "blessed-capacity",
   "metadata": {
    "papermill": {
     "duration": 0.017329,
     "end_time": "2021-06-09T22:57:33.716700",
     "exception": false,
     "start_time": "2021-06-09T22:57:33.699371",
     "status": "completed"
    },
    "tags": []
   },
   "source": [
    "# Introduction\n",
    "\n",
    "In the tutorial, you learned how to build a reasonably intelligent agent with the minimax algorithm.  In this exercise, you will check your understanding and submit your own agent to the competition."
   ]
  },
  {
   "cell_type": "code",
   "execution_count": 1,
   "id": "signed-amazon",
   "metadata": {
    "execution": {
     "iopub.execute_input": "2021-06-09T22:57:33.759671Z",
     "iopub.status.busy": "2021-06-09T22:57:33.758967Z",
     "iopub.status.idle": "2021-06-09T22:57:33.805897Z",
     "shell.execute_reply": "2021-06-09T22:57:33.805080Z",
     "shell.execute_reply.started": "2021-06-05T23:36:01.610257Z"
    },
    "papermill": {
     "duration": 0.071328,
     "end_time": "2021-06-09T22:57:33.806099",
     "exception": false,
     "start_time": "2021-06-09T22:57:33.734771",
     "status": "completed"
    },
    "tags": []
   },
   "outputs": [],
   "source": [
    "from learntools.core import binder\n",
    "binder.bind(globals())\n",
    "from learntools.game_ai.ex3 import *"
   ]
  },
  {
   "cell_type": "markdown",
   "id": "heard-plane",
   "metadata": {
    "papermill": {
     "duration": 0.017062,
     "end_time": "2021-06-09T22:57:33.840839",
     "exception": false,
     "start_time": "2021-06-09T22:57:33.823777",
     "status": "completed"
    },
    "tags": []
   },
   "source": [
    "### 1) A closer look\n",
    "\n",
    "The heuristic from the tutorial looks at all groups of four adjacent grid locations on the same row, column, or diagonal and assigns points for each occurrence of the following patterns:\n",
    "\n",
    "<center>\n",
    "<img src=\"https://i.imgur.com/3NvBEGL.png\" width=70%><br/>\n",
    "</center>\n",
    "\n",
    "Is it really necessary to use so many numbers to define the heuristic?  Consider simplifying it, as in the image below.\n",
    "\n",
    "<center>\n",
    "<img src=\"https://i.imgur.com/grViegG.png\" width=70%><br/>\n",
    "</center>\n",
    "\n",
    "How would each heuristic score the potential moves in the example below (where, in this case, the agent looks only one step ahead)?  Which heuristic would lead to the agent selecting the better move?\n",
    "\n",
    "<center>\n",
    "<img src=\"https://i.imgur.com/LWPLy7N.png\" width=100%><br/>\n",
    "</center>"
   ]
  },
  {
   "cell_type": "code",
   "execution_count": 2,
   "id": "collectible-durham",
   "metadata": {
    "execution": {
     "iopub.execute_input": "2021-06-09T22:57:33.880614Z",
     "iopub.status.busy": "2021-06-09T22:57:33.879857Z",
     "iopub.status.idle": "2021-06-09T22:57:33.887223Z",
     "shell.execute_reply": "2021-06-09T22:57:33.886691Z",
     "shell.execute_reply.started": "2021-06-05T23:36:01.618195Z"
    },
    "papermill": {
     "duration": 0.029144,
     "end_time": "2021-06-09T22:57:33.887371",
     "exception": false,
     "start_time": "2021-06-09T22:57:33.858227",
     "status": "completed"
    },
    "tags": []
   },
   "outputs": [],
   "source": [
    "#q_1.hint()"
   ]
  },
  {
   "cell_type": "code",
   "execution_count": 3,
   "id": "refined-chapel",
   "metadata": {
    "execution": {
     "iopub.execute_input": "2021-06-09T22:57:33.932581Z",
     "iopub.status.busy": "2021-06-09T22:57:33.931739Z",
     "iopub.status.idle": "2021-06-09T22:57:33.937997Z",
     "shell.execute_reply": "2021-06-09T22:57:33.937384Z",
     "shell.execute_reply.started": "2021-06-05T23:36:01.633583Z"
    },
    "papermill": {
     "duration": 0.030749,
     "end_time": "2021-06-09T22:57:33.938166",
     "exception": false,
     "start_time": "2021-06-09T22:57:33.907417",
     "status": "completed"
    },
    "tags": []
   },
   "outputs": [
    {
     "data": {
      "application/javascript": [
       "parent.postMessage({\"jupyterEvent\": \"custom.exercise_interaction\", \"data\": {\"interactionType\": 3, \"questionType\": 4, \"questionId\": \"1_WorseHeuristic\", \"learnToolsVersion\": \"0.3.4\", \"valueTowardsCompletion\": 0.0, \"failureMessage\": \"\", \"exceptionClass\": \"\", \"trace\": \"\", \"outcomeType\": 4}}, \"*\")"
      ],
      "text/plain": [
       "<IPython.core.display.Javascript object>"
      ]
     },
     "metadata": {},
     "output_type": "display_data"
    },
    {
     "data": {
      "text/markdown": [
       "<span style=\"color:#33cc99\">Solution:</span> The first heuristic is guaranteed to select column 2 to block the opponent from winning.  The second heuristic selects either column 2 or column 3 (where it selects each with 50% probability). Thus, for this game board, the first heuristic is better. In general, we can expect that the first heuristic is a better heuristic, since we cannot trust the second heuristic to block the opponent from winning."
      ],
      "text/plain": [
       "Solution: The first heuristic is guaranteed to select column 2 to block the opponent from winning.  The second heuristic selects either column 2 or column 3 (where it selects each with 50% probability). Thus, for this game board, the first heuristic is better. In general, we can expect that the first heuristic is a better heuristic, since we cannot trust the second heuristic to block the opponent from winning."
      ]
     },
     "metadata": {},
     "output_type": "display_data"
    }
   ],
   "source": [
    "# Check your answer (Run this code cell to receive credit!)\n",
    "q_1.solution()"
   ]
  },
  {
   "cell_type": "markdown",
   "id": "criminal-berkeley",
   "metadata": {
    "papermill": {
     "duration": 0.018522,
     "end_time": "2021-06-09T22:57:33.975767",
     "exception": false,
     "start_time": "2021-06-09T22:57:33.957245",
     "status": "completed"
    },
    "tags": []
   },
   "source": [
    "### 2) Count the leaves\n",
    "\n",
    "In the tutorial, we worked with a small game tree.\n",
    "\n",
    "<center>\n",
    "<img src=\"https://i.imgur.com/BrRe7Bu.png\" width=90%><br/>\n",
    "</center>\n",
    "\n",
    "The game tree above has 8 leaf nodes that appear at the bottom of the tree.  By definition, \"leaf nodes\" in a game tree are nodes that don't have nodes below them.\n",
    "\n",
    "In the ConnectX competition, the game trees will be much larger!  \n",
    "\n",
    "To see this, consider a minimax agent that is trying to plan its first move, where all columns in the game board are  empty.  Say the agent builds a game tree of depth 3.  How many leaf nodes are in the game tree?  \n",
    "\n",
    "Use your answer to fill in the blank below."
   ]
  },
  {
   "cell_type": "code",
   "execution_count": 4,
   "id": "three-bermuda",
   "metadata": {
    "execution": {
     "iopub.execute_input": "2021-06-09T22:57:34.020449Z",
     "iopub.status.busy": "2021-06-09T22:57:34.019707Z",
     "iopub.status.idle": "2021-06-09T22:57:34.024991Z",
     "shell.execute_reply": "2021-06-09T22:57:34.024376Z",
     "shell.execute_reply.started": "2021-06-05T23:36:01.649663Z"
    },
    "papermill": {
     "duration": 0.030297,
     "end_time": "2021-06-09T22:57:34.025159",
     "exception": false,
     "start_time": "2021-06-09T22:57:33.994862",
     "status": "completed"
    },
    "tags": []
   },
   "outputs": [
    {
     "data": {
      "application/javascript": [
       "parent.postMessage({\"jupyterEvent\": \"custom.exercise_interaction\", \"data\": {\"outcomeType\": 1, \"valueTowardsCompletion\": 0.2, \"interactionType\": 1, \"questionType\": 1, \"questionId\": \"2_NumLeaves\", \"learnToolsVersion\": \"0.3.4\", \"failureMessage\": \"\", \"exceptionClass\": \"\", \"trace\": \"\"}}, \"*\")"
      ],
      "text/plain": [
       "<IPython.core.display.Javascript object>"
      ]
     },
     "metadata": {},
     "output_type": "display_data"
    },
    {
     "data": {
      "text/markdown": [
       "<span style=\"color:#33cc33\">Correct</span>"
      ],
      "text/plain": [
       "Correct"
      ]
     },
     "metadata": {},
     "output_type": "display_data"
    }
   ],
   "source": [
    "# Fill in the blank\n",
    "num_leaves = 343\n",
    "\n",
    "# Check your answer\n",
    "q_2.check()"
   ]
  },
  {
   "cell_type": "code",
   "execution_count": 5,
   "id": "another-container",
   "metadata": {
    "execution": {
     "iopub.execute_input": "2021-06-09T22:57:34.070500Z",
     "iopub.status.busy": "2021-06-09T22:57:34.069796Z",
     "iopub.status.idle": "2021-06-09T22:57:34.072927Z",
     "shell.execute_reply": "2021-06-09T22:57:34.073448Z",
     "shell.execute_reply.started": "2021-06-05T23:36:01.662989Z"
    },
    "papermill": {
     "duration": 0.02836,
     "end_time": "2021-06-09T22:57:34.073655",
     "exception": false,
     "start_time": "2021-06-09T22:57:34.045295",
     "status": "completed"
    },
    "tags": []
   },
   "outputs": [],
   "source": [
    "# Lines below will give you a hint or solution code\n",
    "#q_2.hint()\n",
    "#q_2.solution()"
   ]
  },
  {
   "cell_type": "markdown",
   "id": "regulation-links",
   "metadata": {
    "papermill": {
     "duration": 0.019557,
     "end_time": "2021-06-09T22:57:34.113439",
     "exception": false,
     "start_time": "2021-06-09T22:57:34.093882",
     "status": "completed"
    },
    "tags": []
   },
   "source": [
    "### 3) Which move will the agent select?\n",
    "\n",
    "In this question, you'll check your understanding of the minimax algorithm.  Remember that with this algorithm, \n",
    "> The agent chooses moves to get a score that is as high as possible, and it assumes the opponent will counteract this by choosing moves to force the score to be as low as possible.\n",
    "\n",
    "Consider the toy example below of a game tree that the agent will use to select its next move.  \n",
    "<center>\n",
    "<img src=\"https://i.imgur.com/QlfWGM9.png\" width=80%><br/>\n",
    "</center>\n",
    "\n",
    "Which move will the agent select?  Use your answer to set the value of the `selected_move` variable below.  Your answer should be one of `1`, `2`, or `3`."
   ]
  },
  {
   "cell_type": "code",
   "execution_count": 6,
   "id": "individual-wilderness",
   "metadata": {
    "execution": {
     "iopub.execute_input": "2021-06-09T22:57:34.156771Z",
     "iopub.status.busy": "2021-06-09T22:57:34.156073Z",
     "iopub.status.idle": "2021-06-09T22:57:34.161622Z",
     "shell.execute_reply": "2021-06-09T22:57:34.162106Z",
     "shell.execute_reply.started": "2021-06-05T23:36:01.670299Z"
    },
    "papermill": {
     "duration": 0.029065,
     "end_time": "2021-06-09T22:57:34.162332",
     "exception": false,
     "start_time": "2021-06-09T22:57:34.133267",
     "status": "completed"
    },
    "tags": []
   },
   "outputs": [
    {
     "data": {
      "application/javascript": [
       "parent.postMessage({\"jupyterEvent\": \"custom.exercise_interaction\", \"data\": {\"outcomeType\": 1, \"valueTowardsCompletion\": 0.2, \"interactionType\": 1, \"questionType\": 2, \"questionId\": \"3_WhichMove\", \"learnToolsVersion\": \"0.3.4\", \"failureMessage\": \"\", \"exceptionClass\": \"\", \"trace\": \"\"}}, \"*\")"
      ],
      "text/plain": [
       "<IPython.core.display.Javascript object>"
      ]
     },
     "metadata": {},
     "output_type": "display_data"
    },
    {
     "data": {
      "text/markdown": [
       "<span style=\"color:#33cc33\">Correct</span>"
      ],
      "text/plain": [
       "Correct"
      ]
     },
     "metadata": {},
     "output_type": "display_data"
    }
   ],
   "source": [
    "# Fill in the blank\n",
    "selected_move = 3\n",
    "\n",
    "# Check your answer\n",
    "q_3.check()"
   ]
  },
  {
   "cell_type": "code",
   "execution_count": 7,
   "id": "brief-tokyo",
   "metadata": {
    "execution": {
     "iopub.execute_input": "2021-06-09T22:57:34.207618Z",
     "iopub.status.busy": "2021-06-09T22:57:34.206913Z",
     "iopub.status.idle": "2021-06-09T22:57:34.209908Z",
     "shell.execute_reply": "2021-06-09T22:57:34.210395Z",
     "shell.execute_reply.started": "2021-06-05T23:36:01.685909Z"
    },
    "papermill": {
     "duration": 0.027329,
     "end_time": "2021-06-09T22:57:34.210595",
     "exception": false,
     "start_time": "2021-06-09T22:57:34.183266",
     "status": "completed"
    },
    "tags": []
   },
   "outputs": [],
   "source": [
    "# Lines below will give you a hint or solution code\n",
    "#q_3.hint()\n",
    "#q_3.solution()"
   ]
  },
  {
   "cell_type": "markdown",
   "id": "expired-concrete",
   "metadata": {
    "papermill": {
     "duration": 0.020618,
     "end_time": "2021-06-09T22:57:34.251992",
     "exception": false,
     "start_time": "2021-06-09T22:57:34.231374",
     "status": "completed"
    },
    "tags": []
   },
   "source": [
    "### 4) Examine the assumptions\n",
    "\n",
    "The minimax agent assumes that its opponent plays optimally (with respect to the heuristic, and using a game tree of limited depth).  But this is almost never the case, in practice: it's far more likely for the agent to encounter a suboptimal (that is: worse than optimal) opponent.  \n",
    "\n",
    "Say the minimax agent encounters a suboptimal opponent. Should we expect the minimax agent to still play the game well, despite the contradiction with its assumptions?  If so, why?"
   ]
  },
  {
   "cell_type": "code",
   "execution_count": 8,
   "id": "yellow-implement",
   "metadata": {
    "execution": {
     "iopub.execute_input": "2021-06-09T22:57:34.297424Z",
     "iopub.status.busy": "2021-06-09T22:57:34.296749Z",
     "iopub.status.idle": "2021-06-09T22:57:34.301062Z",
     "shell.execute_reply": "2021-06-09T22:57:34.300532Z",
     "shell.execute_reply.started": "2021-06-05T23:36:01.693117Z"
    },
    "papermill": {
     "duration": 0.02827,
     "end_time": "2021-06-09T22:57:34.301235",
     "exception": false,
     "start_time": "2021-06-09T22:57:34.272965",
     "status": "completed"
    },
    "tags": []
   },
   "outputs": [],
   "source": [
    "#q_4.hint()"
   ]
  },
  {
   "cell_type": "code",
   "execution_count": 9,
   "id": "dietary-magnet",
   "metadata": {
    "execution": {
     "iopub.execute_input": "2021-06-09T22:57:34.348954Z",
     "iopub.status.busy": "2021-06-09T22:57:34.348046Z",
     "iopub.status.idle": "2021-06-09T22:57:34.352823Z",
     "shell.execute_reply": "2021-06-09T22:57:34.353319Z",
     "shell.execute_reply.started": "2021-06-05T23:36:01.70546Z"
    },
    "papermill": {
     "duration": 0.031368,
     "end_time": "2021-06-09T22:57:34.353530",
     "exception": false,
     "start_time": "2021-06-09T22:57:34.322162",
     "status": "completed"
    },
    "tags": []
   },
   "outputs": [
    {
     "data": {
      "application/javascript": [
       "parent.postMessage({\"jupyterEvent\": \"custom.exercise_interaction\", \"data\": {\"interactionType\": 3, \"questionType\": 4, \"questionId\": \"4_Assumptions\", \"learnToolsVersion\": \"0.3.4\", \"valueTowardsCompletion\": 0.0, \"failureMessage\": \"\", \"exceptionClass\": \"\", \"trace\": \"\", \"outcomeType\": 4}}, \"*\")"
      ],
      "text/plain": [
       "<IPython.core.display.Javascript object>"
      ]
     },
     "metadata": {},
     "output_type": "display_data"
    },
    {
     "data": {
      "text/markdown": [
       "<span style=\"color:#33cc99\">Solution:</span> We can still expect the minimax agent to perform well. On a high level, assuming an optimal opponent simply overestimates the opponent, but does not break the algorithm.  The effect of overestimating the opponent is merely that the minimax agent will take longer to win, than if it had a more accurate understanding of its opponent.  For instance, the minimax agent is highly unlikely to select the same column three times in its first three moves (since it assumes an optimal opponent that will certainly block the winning play in the next move), but this is not a bad initial strategy for playing against an agent that selects columns completely at random."
      ],
      "text/plain": [
       "Solution: We can still expect the minimax agent to perform well. On a high level, assuming an optimal opponent simply overestimates the opponent, but does not break the algorithm.  The effect of overestimating the opponent is merely that the minimax agent will take longer to win, than if it had a more accurate understanding of its opponent.  For instance, the minimax agent is highly unlikely to select the same column three times in its first three moves (since it assumes an optimal opponent that will certainly block the winning play in the next move), but this is not a bad initial strategy for playing against an agent that selects columns completely at random."
      ]
     },
     "metadata": {},
     "output_type": "display_data"
    }
   ],
   "source": [
    "# Check your answer (Run this code cell to receive credit!)\n",
    "q_4.solution()"
   ]
  },
  {
   "cell_type": "markdown",
   "id": "later-rebate",
   "metadata": {
    "papermill": {
     "duration": 0.021301,
     "end_time": "2021-06-09T22:57:34.396729",
     "exception": false,
     "start_time": "2021-06-09T22:57:34.375428",
     "status": "completed"
    },
    "tags": []
   },
   "source": [
    "### 5) Submit to the competition\n",
    "\n",
    "Now, it's time to submit an agent to the competition!  Use the next code cell to define an agent.  (You can see an example of how to write a valid agent in **[this notebook](https://www.kaggle.com/alexisbcook/create-a-connectx-agent)**.)\n",
    "\n",
    "If you decide to use the minimax code from the tutorial, you might like to add [**alpha-beta pruning**](https://en.wikipedia.org/wiki/Alpha%E2%80%93beta_pruning) to decrease the computation time (i.e., get the minimax algorithm to run much faster!).  In this case, \"alpha\" and \"beta\" to refer to two values that are maintained while the algorithm is running, that help to identify early stopping conditions.  \n",
    "\n",
    "Without alpha-beta pruning, minimax evaluates each leaf node.  With alpha-beta pruning, minimax only evaluates nodes that could provide information that affects the agent's choice of action.  Put another way, it identifies nodes that could not possibly affect the final result and avoids evaluating them."
   ]
  },
  {
   "cell_type": "code",
   "execution_count": 10,
   "id": "processed-enterprise",
   "metadata": {
    "execution": {
     "iopub.execute_input": "2021-06-09T22:57:34.443781Z",
     "iopub.status.busy": "2021-06-09T22:57:34.443066Z",
     "iopub.status.idle": "2021-06-09T22:57:34.477253Z",
     "shell.execute_reply": "2021-06-09T22:57:34.477716Z",
     "shell.execute_reply.started": "2021-06-05T23:36:01.720078Z"
    },
    "papermill": {
     "duration": 0.059537,
     "end_time": "2021-06-09T22:57:34.477899",
     "exception": false,
     "start_time": "2021-06-09T22:57:34.418362",
     "status": "completed"
    },
    "tags": []
   },
   "outputs": [],
   "source": [
    "def my_agent(obs, config):\n",
    "    \n",
    "    import random\n",
    "    import numpy as np\n",
    "\n",
    "    # Gets board at next step if agent drops piece in selected column\n",
    "    def drop_piece(grid, col, mark, config):\n",
    "        next_grid = grid.copy()\n",
    "        for row in range(config.rows-1, -1, -1):\n",
    "            if next_grid[row][col] == 0:\n",
    "                break\n",
    "        next_grid[row][col] = mark\n",
    "        return next_grid\n",
    "\n",
    "    # Helper function for get_heuristic: checks if window satisfies heuristic conditions\n",
    "    def check_window(window, num_discs, piece, config):\n",
    "        return (window.count(piece) == num_discs and window.count(0) == config.inarow-num_discs)\n",
    "\n",
    "    # Helper function for get_heuristic: counts number of windows satisfying specified heuristic conditions\n",
    "    def count_windows(grid, num_discs, piece, config):\n",
    "        num_windows = 0\n",
    "        # horizontal\n",
    "        for row in range(config.rows):\n",
    "            for col in range(config.columns-(config.inarow-1)):\n",
    "                window = list(grid[row, col:col+config.inarow])\n",
    "                if check_window(window, num_discs, piece, config):\n",
    "                    num_windows += 1\n",
    "        # vertical\n",
    "        for row in range(config.rows-(config.inarow-1)):\n",
    "            for col in range(config.columns):\n",
    "                window = list(grid[row:row+config.inarow, col])\n",
    "                if check_window(window, num_discs, piece, config):\n",
    "                    num_windows += 1\n",
    "        # positive diagonal\n",
    "        for row in range(config.rows-(config.inarow-1)):\n",
    "            for col in range(config.columns-(config.inarow-1)):\n",
    "                window = list(grid[range(row, row+config.inarow), range(col, col+config.inarow)])\n",
    "                if check_window(window, num_discs, piece, config):\n",
    "                    num_windows += 1\n",
    "        # negative diagonal\n",
    "        for row in range(config.inarow-1, config.rows):\n",
    "            for col in range(config.columns-(config.inarow-1)):\n",
    "                window = list(grid[range(row, row-config.inarow, -1), range(col, col+config.inarow)])\n",
    "                if check_window(window, num_discs, piece, config):\n",
    "                    num_windows += 1\n",
    "        return num_windows\n",
    "\n",
    "    # Helper function for minimax with alphabeta pruning: calculates value of heuristic for grid\n",
    "    def get_heuristic(grid, mark, config):\n",
    "        num_threes = count_windows(grid, 3, mark, config)\n",
    "        num_fours = count_windows(grid, 4, mark, config)\n",
    "        num_threes_opp = count_windows(grid, 3, mark%2+1, config)\n",
    "        num_fours_opp = count_windows(grid, 4, mark%2+1, config)\n",
    "        score = num_threes - 1e2*num_threes_opp - 1e4*num_fours_opp + 1e6*num_fours\n",
    "        return score\n",
    "\n",
    "    # Uses minimax with alphabeta pruning to calculate value of dropping piece in selected column\n",
    "    def score_move(grid, col, mark, config, nsteps):\n",
    "        next_grid = drop_piece(grid, col, mark, config)\n",
    "        score = alphabeta(next_grid, nsteps-1, -np.Inf, np.Inf, False, mark, config)\n",
    "        return score\n",
    "\n",
    "    # Helper function for minimax with alphabeta pruning: checks if agent or opponent has four in a row in the window\n",
    "    def is_terminal_window(window, config):\n",
    "        return window.count(1) == config.inarow or window.count(2) == config.inarow\n",
    "\n",
    "    # Helper function for minimax with alphabeta pruning: checks if game has ended\n",
    "    def is_terminal_node(grid, config):\n",
    "        # Check for draw \n",
    "        if list(grid[0, :]).count(0) == 0:\n",
    "            return True\n",
    "        # Check for win: horizontal, vertical, or diagonal\n",
    "        # horizontal \n",
    "        for row in range(config.rows):\n",
    "            for col in range(config.columns-(config.inarow-1)):\n",
    "                window = list(grid[row, col:col+config.inarow])\n",
    "                if is_terminal_window(window, config):\n",
    "                    return True\n",
    "        # vertical\n",
    "        for row in range(config.rows-(config.inarow-1)):\n",
    "            for col in range(config.columns):\n",
    "                window = list(grid[row:row+config.inarow, col])\n",
    "                if is_terminal_window(window, config):\n",
    "                    return True\n",
    "        # positive diagonal\n",
    "        for row in range(config.rows-(config.inarow-1)):\n",
    "            for col in range(config.columns-(config.inarow-1)):\n",
    "                window = list(grid[range(row, row+config.inarow), range(col, col+config.inarow)])\n",
    "                if is_terminal_window(window, config):\n",
    "                    return True\n",
    "        # negative diagonal\n",
    "        for row in range(config.inarow-1, config.rows):\n",
    "            for col in range(config.columns-(config.inarow-1)):\n",
    "                window = list(grid[range(row, row-config.inarow, -1), range(col, col+config.inarow)])\n",
    "                if is_terminal_window(window, config):\n",
    "                    return True\n",
    "        return False\n",
    "\n",
    "    # Minimax with alphabeta implementation\n",
    "    def alphabeta(node, depth, alpha, beta, maximizingPlayer, mark, config):\n",
    "        is_terminal = is_terminal_node(node, config)\n",
    "        valid_moves = [c for c in range(config.columns) if node[0][c] == 0]\n",
    "        if depth == 0 or is_terminal:\n",
    "            return get_heuristic(node, mark, config)\n",
    "        if maximizingPlayer:\n",
    "            value = -np.Inf\n",
    "            for col in valid_moves:\n",
    "                child = drop_piece(node, col, mark, config)\n",
    "                value = max(value, alphabeta(child, depth-1, alpha, beta, False, mark, config))\n",
    "                alpha = max(alpha, value)\n",
    "                if alpha >= beta:\n",
    "                    break\n",
    "            return value\n",
    "        else:\n",
    "            value = np.Inf\n",
    "            for col in valid_moves:\n",
    "                child = drop_piece(node, col, mark%2+1, config)\n",
    "                value = min(value, alphabeta(child, depth-1, alpha, beta, True, mark, config))\n",
    "                beta = min(beta, value)\n",
    "                if beta <= alpha:\n",
    "                    break\n",
    "            return value\n",
    "\n",
    "        # How deep to make the game tree: higher values take longer to run!\n",
    "    N_STEPS = 4\n",
    "\n",
    "    # Get list of valid moves\n",
    "    valid_moves = [c for c in range(config.columns) if obs.board[c] == 0]\n",
    "    # Convert the board to a 2D grid\n",
    "    grid = np.asarray(obs.board).reshape(config.rows, config.columns)\n",
    "    # Use the heuristic to assign a score to each possible board in the next step\n",
    "    scores = dict(zip(valid_moves, [score_move(grid, col, obs.mark, config, N_STEPS) for col in valid_moves]))\n",
    "    # Get a list of columns (moves) that maximize the heuristic\n",
    "    max_cols = [key for key in scores.keys() if scores[key] == max(scores.values())]\n",
    "    # Select at random from the maximizing columns\n",
    "    return random.choice(max_cols)"
   ]
  },
  {
   "cell_type": "code",
   "execution_count": 11,
   "id": "emotional-clinic",
   "metadata": {
    "execution": {
     "iopub.execute_input": "2021-06-09T22:57:34.524789Z",
     "iopub.status.busy": "2021-06-09T22:57:34.524151Z",
     "iopub.status.idle": "2021-06-09T22:57:34.532156Z",
     "shell.execute_reply": "2021-06-09T22:57:34.531518Z",
     "shell.execute_reply.started": "2021-06-05T23:36:01.760266Z"
    },
    "papermill": {
     "duration": 0.032917,
     "end_time": "2021-06-09T22:57:34.532314",
     "exception": false,
     "start_time": "2021-06-09T22:57:34.499397",
     "status": "completed"
    },
    "tags": []
   },
   "outputs": [
    {
     "data": {
      "application/javascript": [
       "parent.postMessage({\"jupyterEvent\": \"custom.exercise_interaction\", \"data\": {\"outcomeType\": 1, \"valueTowardsCompletion\": 0.2, \"interactionType\": 1, \"questionType\": 2, \"questionId\": \"5_JustSubmitEx3\", \"learnToolsVersion\": \"0.3.4\", \"failureMessage\": \"\", \"exceptionClass\": \"\", \"trace\": \"\"}}, \"*\")"
      ],
      "text/plain": [
       "<IPython.core.display.Javascript object>"
      ]
     },
     "metadata": {},
     "output_type": "display_data"
    },
    {
     "data": {
      "text/markdown": [
       "<span style=\"color:#33cc33\">Thank you for creating an agent!</span>"
      ],
      "text/plain": [
       "Thank you for creating an agent!"
      ]
     },
     "metadata": {},
     "output_type": "display_data"
    }
   ],
   "source": [
    "# Run this code cell to get credit for creating an agent\n",
    "q_5.check()"
   ]
  },
  {
   "cell_type": "code",
   "execution_count": 12,
   "id": "likely-boston",
   "metadata": {
    "execution": {
     "iopub.execute_input": "2021-06-09T22:57:34.596042Z",
     "iopub.status.busy": "2021-06-09T22:57:34.595384Z",
     "iopub.status.idle": "2021-06-09T22:57:34.601647Z",
     "shell.execute_reply": "2021-06-09T22:57:34.602528Z",
     "shell.execute_reply.started": "2021-06-05T23:36:01.779868Z"
    },
    "papermill": {
     "duration": 0.047326,
     "end_time": "2021-06-09T22:57:34.602796",
     "exception": false,
     "start_time": "2021-06-09T22:57:34.555470",
     "status": "completed"
    },
    "tags": []
   },
   "outputs": [
    {
     "name": "stdout",
     "output_type": "stream",
     "text": [
      "<function my_agent at 0x7f69903cc710> written to submission.py\n"
     ]
    }
   ],
   "source": [
    "import inspect\n",
    "import os\n",
    "\n",
    "def write_agent_to_file(function, file):\n",
    "    with open(file, \"a\" if os.path.exists(file) else \"w\") as f:\n",
    "        f.write(inspect.getsource(function))\n",
    "        print(function, \"written to\", file)\n",
    "\n",
    "write_agent_to_file(my_agent, \"submission.py\")"
   ]
  },
  {
   "cell_type": "code",
   "execution_count": 13,
   "id": "convenient-sweden",
   "metadata": {
    "execution": {
     "iopub.execute_input": "2021-06-09T22:57:34.653880Z",
     "iopub.status.busy": "2021-06-09T22:57:34.652886Z",
     "iopub.status.idle": "2021-06-09T22:59:06.644705Z",
     "shell.execute_reply": "2021-06-09T22:59:06.645344Z",
     "shell.execute_reply.started": "2021-06-05T23:36:01.80306Z"
    },
    "papermill": {
     "duration": 92.019323,
     "end_time": "2021-06-09T22:59:06.645565",
     "exception": false,
     "start_time": "2021-06-09T22:57:34.626242",
     "status": "completed"
    },
    "tags": []
   },
   "outputs": [
    {
     "name": "stdout",
     "output_type": "stream",
     "text": [
      "Loading environment football failed: No module named 'gfootball'\n",
      "Success!\n"
     ]
    }
   ],
   "source": [
    "import sys\n",
    "from kaggle_environments import utils, agent, make, evaluate\n",
    "\n",
    "out = sys.stdout\n",
    "submission = utils.read_file(\"/kaggle/working/submission.py\")\n",
    "agent = agent.get_last_callable(submission)\n",
    "sys.stdout = out\n",
    "\n",
    "env = make(\"connectx\", debug=True)\n",
    "env.run([agent, agent])\n",
    "print(\"Success!\" if env.state[0].status == env.state[1].status == \"DONE\" else \"Failed...\")"
   ]
  },
  {
   "cell_type": "code",
   "execution_count": 14,
   "id": "latter-genesis",
   "metadata": {
    "execution": {
     "iopub.execute_input": "2021-06-09T22:59:06.703431Z",
     "iopub.status.busy": "2021-06-09T22:59:06.702447Z",
     "iopub.status.idle": "2021-06-09T22:59:06.706405Z",
     "shell.execute_reply": "2021-06-09T22:59:06.705839Z",
     "shell.execute_reply.started": "2021-06-05T23:37:41.141862Z"
    },
    "papermill": {
     "duration": 0.037547,
     "end_time": "2021-06-09T22:59:06.706543",
     "exception": false,
     "start_time": "2021-06-09T22:59:06.668996",
     "status": "completed"
    },
    "tags": []
   },
   "outputs": [],
   "source": [
    "import numpy as np\n",
    "\n",
    "def get_win_percentages(agent1, agent2, n_rounds=100):\n",
    "    # Use default Connect Four setup\n",
    "    config = {'rows': 6, 'columns': 7, 'inarow': 4}\n",
    "    # Agent 1 goes first (roughly) half the time          \n",
    "    outcomes = evaluate(\"connectx\", [agent1, agent2], config, [], n_rounds//2)\n",
    "    # Agent 2 goes first (roughly) half the time      \n",
    "    outcomes += [[b,a] for [a,b] in evaluate(\"connectx\", [agent2, agent1], config, [], n_rounds-n_rounds//2)]\n",
    "    print(\"Agent 1 Win Percentage:\", np.round(outcomes.count([1,-1])/len(outcomes), 2))\n",
    "    print(\"Agent 2 Win Percentage:\", np.round(outcomes.count([-1,1])/len(outcomes), 2))\n",
    "    print(\"Number of Invalid Plays by Agent 1:\", outcomes.count([None, 0]))\n",
    "    print(\"Number of Invalid Plays by Agent 2:\", outcomes.count([0, None]))"
   ]
  },
  {
   "cell_type": "code",
   "execution_count": 15,
   "id": "preceding-flavor",
   "metadata": {
    "execution": {
     "iopub.execute_input": "2021-06-09T22:59:06.774125Z",
     "iopub.status.busy": "2021-06-09T22:59:06.763374Z",
     "iopub.status.idle": "2021-06-09T23:08:00.521203Z",
     "shell.execute_reply": "2021-06-09T23:08:00.521738Z"
    },
    "papermill": {
     "duration": 533.792243,
     "end_time": "2021-06-09T23:08:00.521971",
     "exception": false,
     "start_time": "2021-06-09T22:59:06.729728",
     "status": "completed"
    },
    "tags": []
   },
   "outputs": [
    {
     "name": "stdout",
     "output_type": "stream",
     "text": [
      "Agent 1 Win Percentage: 1.0\n",
      "Agent 2 Win Percentage: 0.0\n",
      "Number of Invalid Plays by Agent 1: 0\n",
      "Number of Invalid Plays by Agent 2: 0\n"
     ]
    }
   ],
   "source": [
    "get_win_percentages(agent1=my_agent, agent2=\"random\", n_rounds=20)"
   ]
  },
  {
   "cell_type": "markdown",
   "id": "celtic-mercury",
   "metadata": {
    "papermill": {
     "duration": 0.025687,
     "end_time": "2021-06-09T23:08:00.573519",
     "exception": false,
     "start_time": "2021-06-09T23:08:00.547832",
     "status": "completed"
    },
    "tags": []
   },
   "source": [
    "Then, follow these steps to submit your agent to the competition:\n",
    "1. Begin by clicking on the blue **Save Version** button in the top right corner of the window.  This will generate a pop-up window.  \n",
    "2. Ensure that the **Save and Run All** option is selected, and then click on the blue **Save** button.\n",
    "3. This generates a window in the bottom left corner of the notebook.  After it has finished running, click on the number to the right of the **Save Version** button.  This pulls up a list of versions on the right of the screen.  Click on the ellipsis **(...)** to the right of the most recent version, and select **Open in Viewer**.  This brings you into view mode of the same page. You will need to scroll down to get back to these instructions.\n",
    "4. Click on the **Output** tab on the right of the screen.  Then, click on the file you would like to submit, and click on the blue **Submit** button to submit your results to the leaderboard.\n",
    "\n",
    "You have now successfully submitted to the competition!\n",
    "\n",
    "If you want to keep working to improve your performance, select the blue **Edit** button in the top right of the screen. Then you can change your code and repeat the process. There's a lot of room to improve, and you will climb up the leaderboard as you work.\n",
    "\n",
    "\n",
    "Go to **\"My Submissions\"** to view your score and episodes being played.\n",
    "\n",
    "# Keep going\n",
    "\n",
    "Move on to learn how to **[use deep reinforcement learning](https://www.kaggle.com/alexisbcook/deep-reinforcement-learning)** to develop an agent without a heuristic!"
   ]
  },
  {
   "cell_type": "markdown",
   "id": "intelligent-travel",
   "metadata": {
    "papermill": {
     "duration": 0.025027,
     "end_time": "2021-06-09T23:08:00.623602",
     "exception": false,
     "start_time": "2021-06-09T23:08:00.598575",
     "status": "completed"
    },
    "tags": []
   },
   "source": [
    "---\n",
    "\n",
    "\n",
    "\n",
    "\n",
    "*Have questions or comments? Visit the [Learn Discussion forum](https://www.kaggle.com/learn-forum/161477) to chat with other Learners.*"
   ]
  }
 ],
 "metadata": {
  "kernelspec": {
   "display_name": "Python 3",
   "language": "python",
   "name": "python3"
  },
  "language_info": {
   "codemirror_mode": {
    "name": "ipython",
    "version": 3
   },
   "file_extension": ".py",
   "mimetype": "text/x-python",
   "name": "python",
   "nbconvert_exporter": "python",
   "pygments_lexer": "ipython3",
   "version": "3.7.9"
  },
  "papermill": {
   "default_parameters": {},
   "duration": 634.523955,
   "end_time": "2021-06-09T23:08:01.562253",
   "environment_variables": {},
   "exception": null,
   "input_path": "__notebook__.ipynb",
   "output_path": "__notebook__.ipynb",
   "parameters": {},
   "start_time": "2021-06-09T22:57:27.038298",
   "version": "2.3.2"
  }
 },
 "nbformat": 4,
 "nbformat_minor": 5
}
