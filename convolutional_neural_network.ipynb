{
 "cells": [
  {
   "cell_type": "markdown",
   "metadata": {
    "colab_type": "text",
    "id": "3DR-eO17geWu"
   },
   "source": [
    "# Convolutional Neural Network"
   ]
  },
  {
   "cell_type": "markdown",
   "metadata": {
    "colab_type": "text",
    "id": "EMefrVPCg-60"
   },
   "source": [
    "### Importing the libraries"
   ]
  },
  {
   "cell_type": "code",
   "execution_count": 2,
   "metadata": {
    "colab": {},
    "colab_type": "code",
    "id": "sCV30xyVhFbE"
   },
   "outputs": [
    {
     "name": "stderr",
     "output_type": "stream",
     "text": [
      "Using TensorFlow backend.\n"
     ]
    }
   ],
   "source": [
    "import tensorflow as tf\n",
    "from keras.preprocessing.image import ImageDataGenerator"
   ]
  },
  {
   "cell_type": "code",
   "execution_count": 3,
   "metadata": {
    "colab": {},
    "colab_type": "code",
    "id": "FIleuCAjoFD8"
   },
   "outputs": [
    {
     "data": {
      "text/plain": [
       "'2.2.0'"
      ]
     },
     "execution_count": 3,
     "metadata": {},
     "output_type": "execute_result"
    }
   ],
   "source": [
    "tf.__version__"
   ]
  },
  {
   "cell_type": "markdown",
   "metadata": {
    "colab_type": "text",
    "id": "oxQxCBWyoGPE"
   },
   "source": [
    "## Part 1 - Data Preprocessing"
   ]
  },
  {
   "cell_type": "markdown",
   "metadata": {
    "colab_type": "text",
    "id": "MvE-heJNo3GG"
   },
   "source": [
    "### Preprocessing the Training set"
   ]
  },
  {
   "cell_type": "code",
   "execution_count": 4,
   "metadata": {
    "colab": {},
    "colab_type": "code",
    "id": "0koUcJMJpEBD"
   },
   "outputs": [
    {
     "name": "stdout",
     "output_type": "stream",
     "text": [
      "Found 886 images belonging to 2 classes.\n"
     ]
    }
   ],
   "source": [
    "train_datagen = ImageDataGenerator(rescale = 1./255,\n",
    "                                   shear_range = 0.2,\n",
    "                                   zoom_range = 0.2,\n",
    "                                   horizontal_flip = True)\n",
    "training_set = train_datagen.flow_from_directory('dataset/training_set',\n",
    "                                                 target_size = (64, 64),\n",
    "                                                 batch_size = 32,\n",
    "                                                 class_mode = 'binary')"
   ]
  },
  {
   "cell_type": "markdown",
   "metadata": {
    "colab_type": "text",
    "id": "mrCMmGw9pHys"
   },
   "source": [
    "### Preprocessing the Test set"
   ]
  },
  {
   "cell_type": "code",
   "execution_count": 5,
   "metadata": {
    "colab": {},
    "colab_type": "code",
    "id": "SH4WzfOhpKc3"
   },
   "outputs": [
    {
     "name": "stdout",
     "output_type": "stream",
     "text": [
      "Found 177 images belonging to 2 classes.\n"
     ]
    }
   ],
   "source": [
    "test_datagen = ImageDataGenerator(rescale = 1./255)\n",
    "test_set = test_datagen.flow_from_directory('dataset/test_set',\n",
    "                                            target_size = (64, 64),\n",
    "                                            batch_size = 32,\n",
    "                                            class_mode = 'binary')"
   ]
  },
  {
   "cell_type": "markdown",
   "metadata": {
    "colab_type": "text",
    "id": "af8O4l90gk7B"
   },
   "source": [
    "## Part 2 - Building the CNN"
   ]
  },
  {
   "cell_type": "markdown",
   "metadata": {
    "colab_type": "text",
    "id": "ces1gXY2lmoX"
   },
   "source": [
    "### Initialising the CNN"
   ]
  },
  {
   "cell_type": "code",
   "execution_count": 6,
   "metadata": {
    "colab": {},
    "colab_type": "code",
    "id": "SAUt4UMPlhLS"
   },
   "outputs": [],
   "source": [
    "cnn = tf.keras.models.Sequential()"
   ]
  },
  {
   "cell_type": "markdown",
   "metadata": {
    "colab_type": "text",
    "id": "u5YJj_XMl5LF"
   },
   "source": [
    "### Step 1 - Convolution"
   ]
  },
  {
   "cell_type": "code",
   "execution_count": 7,
   "metadata": {
    "colab": {},
    "colab_type": "code",
    "id": "XPzPrMckl-hV"
   },
   "outputs": [],
   "source": [
    "cnn.add(tf.keras.layers.Conv2D(filters=32, kernel_size=3, activation='relu', input_shape=[64, 64, 3]))"
   ]
  },
  {
   "cell_type": "markdown",
   "metadata": {
    "colab_type": "text",
    "id": "tf87FpvxmNOJ"
   },
   "source": [
    "### Step 2 - Pooling"
   ]
  },
  {
   "cell_type": "code",
   "execution_count": 8,
   "metadata": {
    "colab": {},
    "colab_type": "code",
    "id": "ncpqPl69mOac"
   },
   "outputs": [],
   "source": [
    "cnn.add(tf.keras.layers.MaxPool2D(pool_size=2, strides=2))"
   ]
  },
  {
   "cell_type": "markdown",
   "metadata": {
    "colab_type": "text",
    "id": "xaTOgD8rm4mU"
   },
   "source": [
    "### Adding a second convolutional layer"
   ]
  },
  {
   "cell_type": "code",
   "execution_count": 9,
   "metadata": {
    "colab": {},
    "colab_type": "code",
    "id": "i_-FZjn_m8gk"
   },
   "outputs": [],
   "source": [
    "cnn.add(tf.keras.layers.Conv2D(filters=32, kernel_size=3, activation='relu'))\n",
    "cnn.add(tf.keras.layers.MaxPool2D(pool_size=2, strides=2))"
   ]
  },
  {
   "cell_type": "markdown",
   "metadata": {
    "colab_type": "text",
    "id": "tmiEuvTunKfk"
   },
   "source": [
    "### Step 3 - Flattening"
   ]
  },
  {
   "cell_type": "code",
   "execution_count": 10,
   "metadata": {
    "colab": {},
    "colab_type": "code",
    "id": "6AZeOGCvnNZn"
   },
   "outputs": [],
   "source": [
    "cnn.add(tf.keras.layers.Flatten())"
   ]
  },
  {
   "cell_type": "markdown",
   "metadata": {
    "colab_type": "text",
    "id": "dAoSECOm203v"
   },
   "source": [
    "### Step 4 - Full Connection"
   ]
  },
  {
   "cell_type": "code",
   "execution_count": 11,
   "metadata": {
    "colab": {},
    "colab_type": "code",
    "id": "8GtmUlLd26Nq"
   },
   "outputs": [],
   "source": [
    "cnn.add(tf.keras.layers.Dense(units=128, activation='relu'))"
   ]
  },
  {
   "cell_type": "markdown",
   "metadata": {
    "colab_type": "text",
    "id": "yTldFvbX28Na"
   },
   "source": [
    "### Step 5 - Output Layer"
   ]
  },
  {
   "cell_type": "code",
   "execution_count": 12,
   "metadata": {
    "colab": {},
    "colab_type": "code",
    "id": "1p_Zj1Mc3Ko_"
   },
   "outputs": [],
   "source": [
    "cnn.add(tf.keras.layers.Dense(units=1, activation='sigmoid'))"
   ]
  },
  {
   "cell_type": "markdown",
   "metadata": {
    "colab_type": "text",
    "id": "D6XkI90snSDl"
   },
   "source": [
    "## Part 3 - Training the CNN"
   ]
  },
  {
   "cell_type": "markdown",
   "metadata": {
    "colab_type": "text",
    "id": "vfrFQACEnc6i"
   },
   "source": [
    "### Compiling the CNN"
   ]
  },
  {
   "cell_type": "code",
   "execution_count": 13,
   "metadata": {
    "colab": {},
    "colab_type": "code",
    "id": "NALksrNQpUlJ"
   },
   "outputs": [],
   "source": [
    "cnn.compile(optimizer = 'adam', loss = 'binary_crossentropy', metrics = ['accuracy'])"
   ]
  },
  {
   "cell_type": "markdown",
   "metadata": {
    "colab_type": "text",
    "id": "ehS-v3MIpX2h"
   },
   "source": [
    "### Training the CNN on the Training set and evaluating it on the Test set"
   ]
  },
  {
   "cell_type": "code",
   "execution_count": 14,
   "metadata": {
    "colab": {},
    "colab_type": "code",
    "id": "XUj1W4PJptta"
   },
   "outputs": [
    {
     "name": "stdout",
     "output_type": "stream",
     "text": [
      "Epoch 1/25\n",
      "28/28 [==============================] - 20s 726ms/step - loss: 0.6801 - accuracy: 0.5869 - val_loss: 0.6151 - val_accuracy: 0.6780\n",
      "Epoch 2/25\n",
      "28/28 [==============================] - 18s 643ms/step - loss: 0.6415 - accuracy: 0.6467 - val_loss: 0.6570 - val_accuracy: 0.6328\n",
      "Epoch 3/25\n",
      "28/28 [==============================] - 19s 664ms/step - loss: 0.6120 - accuracy: 0.6749 - val_loss: 0.5845 - val_accuracy: 0.6780\n",
      "Epoch 4/25\n",
      "28/28 [==============================] - 19s 662ms/step - loss: 0.5786 - accuracy: 0.7020 - val_loss: 0.6147 - val_accuracy: 0.6780\n",
      "Epoch 5/25\n",
      "28/28 [==============================] - 18s 650ms/step - loss: 0.5743 - accuracy: 0.7054 - val_loss: 0.5744 - val_accuracy: 0.6949\n",
      "Epoch 6/25\n",
      "28/28 [==============================] - 18s 652ms/step - loss: 0.5592 - accuracy: 0.7065 - val_loss: 0.6714 - val_accuracy: 0.6554\n",
      "Epoch 7/25\n",
      "28/28 [==============================] - 17s 612ms/step - loss: 0.5313 - accuracy: 0.7325 - val_loss: 0.6072 - val_accuracy: 0.6554\n",
      "Epoch 8/25\n",
      "28/28 [==============================] - 18s 653ms/step - loss: 0.5275 - accuracy: 0.7336 - val_loss: 0.6074 - val_accuracy: 0.6780\n",
      "Epoch 9/25\n",
      "28/28 [==============================] - 19s 663ms/step - loss: 0.5110 - accuracy: 0.7472 - val_loss: 0.5559 - val_accuracy: 0.7288\n",
      "Epoch 10/25\n",
      "28/28 [==============================] - 18s 635ms/step - loss: 0.5190 - accuracy: 0.7314 - val_loss: 0.6278 - val_accuracy: 0.6610\n",
      "Epoch 11/25\n",
      "28/28 [==============================] - 18s 635ms/step - loss: 0.4816 - accuracy: 0.7630 - val_loss: 0.6261 - val_accuracy: 0.6610\n",
      "Epoch 12/25\n",
      "28/28 [==============================] - 18s 646ms/step - loss: 0.4596 - accuracy: 0.7912 - val_loss: 0.5823 - val_accuracy: 0.7119\n",
      "Epoch 13/25\n",
      "28/28 [==============================] - 17s 617ms/step - loss: 0.4527 - accuracy: 0.7901 - val_loss: 0.7200 - val_accuracy: 0.6780\n",
      "Epoch 14/25\n",
      "28/28 [==============================] - 17s 598ms/step - loss: 0.4348 - accuracy: 0.7878 - val_loss: 0.6161 - val_accuracy: 0.7627\n",
      "Epoch 15/25\n",
      "28/28 [==============================] - 18s 626ms/step - loss: 0.4451 - accuracy: 0.7901 - val_loss: 0.6831 - val_accuracy: 0.7006\n",
      "Epoch 16/25\n",
      "28/28 [==============================] - 18s 634ms/step - loss: 0.4111 - accuracy: 0.8093 - val_loss: 0.6981 - val_accuracy: 0.6780\n",
      "Epoch 17/25\n",
      "28/28 [==============================] - 18s 641ms/step - loss: 0.4144 - accuracy: 0.8093 - val_loss: 0.6715 - val_accuracy: 0.7232\n",
      "Epoch 18/25\n",
      "28/28 [==============================] - 18s 637ms/step - loss: 0.3997 - accuracy: 0.8172 - val_loss: 0.7044 - val_accuracy: 0.6780\n",
      "Epoch 19/25\n",
      "28/28 [==============================] - 18s 645ms/step - loss: 0.3926 - accuracy: 0.8126 - val_loss: 0.6801 - val_accuracy: 0.7006\n",
      "Epoch 20/25\n",
      "28/28 [==============================] - 19s 669ms/step - loss: 0.3828 - accuracy: 0.8183 - val_loss: 0.6593 - val_accuracy: 0.7062\n",
      "Epoch 21/25\n",
      "28/28 [==============================] - 17s 595ms/step - loss: 0.3674 - accuracy: 0.8397 - val_loss: 0.7850 - val_accuracy: 0.6893\n",
      "Epoch 22/25\n",
      "28/28 [==============================] - 18s 638ms/step - loss: 0.3627 - accuracy: 0.8499 - val_loss: 0.8011 - val_accuracy: 0.6836\n",
      "Epoch 23/25\n",
      "28/28 [==============================] - 16s 586ms/step - loss: 0.3349 - accuracy: 0.8409 - val_loss: 0.7875 - val_accuracy: 0.7062\n",
      "Epoch 24/25\n",
      "28/28 [==============================] - 18s 640ms/step - loss: 0.3096 - accuracy: 0.8736 - val_loss: 0.9745 - val_accuracy: 0.7401\n",
      "Epoch 25/25\n",
      "28/28 [==============================] - 18s 648ms/step - loss: 0.3146 - accuracy: 0.8646 - val_loss: 0.9352 - val_accuracy: 0.6893\n"
     ]
    },
    {
     "data": {
      "text/plain": [
       "<tensorflow.python.keras.callbacks.History at 0x1ea06904208>"
      ]
     },
     "execution_count": 14,
     "metadata": {},
     "output_type": "execute_result"
    }
   ],
   "source": [
    "cnn.fit(x = training_set, validation_data = test_set, epochs = 25)"
   ]
  },
  {
   "cell_type": "markdown",
   "metadata": {
    "colab_type": "text",
    "id": "U3PZasO0006Z"
   },
   "source": [
    "## Part 4 - Making a single prediction"
   ]
  },
  {
   "cell_type": "code",
   "execution_count": 15,
   "metadata": {},
   "outputs": [
    {
     "name": "stdout",
     "output_type": "stream",
     "text": [
      "{'Legit': 0, 'Scam': 1}\n"
     ]
    }
   ],
   "source": [
    "print(training_set.class_indices)"
   ]
  },
  {
   "cell_type": "code",
   "execution_count": 16,
   "metadata": {
    "colab": {},
    "colab_type": "code",
    "id": "gsSiWEJY1BPB"
   },
   "outputs": [],
   "source": [
    "import numpy as np\n",
    "from keras.preprocessing import image\n",
    "test_image = image.load_img('dataset/single_prediction/legit_or_scam_1.png', target_size = (64, 64))\n",
    "test_image = image.img_to_array(test_image)\n",
    "test_image = np.expand_dims(test_image, axis = 0)\n",
    "result = cnn.predict(test_image)\n",
    "training_set.class_indices\n",
    "if result[0][0] == 1:\n",
    "  prediction = 'scam'\n",
    "else:\n",
    "  prediction = 'legit'"
   ]
  },
  {
   "cell_type": "code",
   "execution_count": 17,
   "metadata": {
    "colab": {},
    "colab_type": "code",
    "id": "ED9KB3I54c1i"
   },
   "outputs": [
    {
     "name": "stdout",
     "output_type": "stream",
     "text": [
      "scam\n"
     ]
    }
   ],
   "source": [
    "print(prediction)"
   ]
  },
  {
   "cell_type": "code",
   "execution_count": null,
   "metadata": {},
   "outputs": [],
   "source": []
  }
 ],
 "metadata": {
  "colab": {
   "authorship_tag": "ABX9TyON0YxX/oky4tPbqCLnFjWD",
   "collapsed_sections": [],
   "name": "convolutional_neural_network.ipynb",
   "provenance": [],
   "toc_visible": true
  },
  "kernelspec": {
   "display_name": "Python 3",
   "language": "python",
   "name": "python3"
  },
  "language_info": {
   "codemirror_mode": {
    "name": "ipython",
    "version": 3
   },
   "file_extension": ".py",
   "mimetype": "text/x-python",
   "name": "python",
   "nbconvert_exporter": "python",
   "pygments_lexer": "ipython3",
   "version": "3.7.6"
  }
 },
 "nbformat": 4,
 "nbformat_minor": 1
}
